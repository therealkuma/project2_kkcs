{
 "cells": [
  {
   "cell_type": "code",
   "execution_count": 2,
   "id": "2a9271e8-e25e-473e-b764-859c3fed3bfc",
   "metadata": {},
   "outputs": [],
   "source": [
    "import pandas as pd\n",
    "from pathlib import Path\n",
    "import hvplot.pandas\n",
    "import yfinance as yf\n",
    "import numpy as np\n"
   ]
  },
  {
   "cell_type": "code",
   "execution_count": 3,
   "id": "ea7ddc95-4d3e-4570-b09c-6ef547f3f3d7",
   "metadata": {},
   "outputs": [
    {
     "name": "stdout",
     "output_type": "stream",
     "text": [
      "[*********************100%***********************]  1 of 1 completed\n"
     ]
    }
   ],
   "source": [
    "SP500_data=yf.download(\"^GSPC\",start=\"2018-01-01\", end=\"2022-09-30\",interval = \"1d\")"
   ]
  },
  {
   "cell_type": "code",
   "execution_count": 4,
   "id": "73e0026b-27cc-4fc6-9171-98b0dc034436",
   "metadata": {},
   "outputs": [
    {
     "name": "stdout",
     "output_type": "stream",
     "text": [
      "[*********************100%***********************]  1 of 1 completed\n"
     ]
    }
   ],
   "source": [
    "bitcoin_data = yf.download(\"BTC-USD\", start=\"2018-01-01\", end=\"2022-09-30\",interval = \"1d\")"
   ]
  },
  {
   "cell_type": "code",
   "execution_count": 5,
   "id": "d30db3d2-e29c-4b91-86a0-643fa077ca44",
   "metadata": {},
   "outputs": [
    {
     "name": "stdout",
     "output_type": "stream",
     "text": [
      "[*********************100%***********************]  1 of 1 completed\n"
     ]
    }
   ],
   "source": [
    "ethereum_data=yf.download(\"ETH-USD\", start=\"2018-01-01\", end=\"2022-09-30\",interval = \"1d\")"
   ]
  },
  {
   "cell_type": "code",
   "execution_count": 114,
   "id": "97154ce6-f3fc-44eb-93c6-0a9f05d2b36b",
   "metadata": {},
   "outputs": [
    {
     "name": "stdout",
     "output_type": "stream",
     "text": [
      "[*********************100%***********************]  1 of 1 completed\n"
     ]
    }
   ],
   "source": [
    "litecoin_data=yf.download(\"LTC-USD\", start=\"2018-01-01\", end=\"2022-09-30\",interval = \"1d\")"
   ]
  },
  {
   "cell_type": "code",
   "execution_count": 115,
   "id": "4fb457fc-6e02-46ef-a857-b93ed09dc4c6",
   "metadata": {},
   "outputs": [
    {
     "name": "stdout",
     "output_type": "stream",
     "text": [
      "[*********************100%***********************]  1 of 1 completed\n"
     ]
    }
   ],
   "source": [
    "solana_data=yf.download(\"SOL-USD\", start=\"2018-01-01\", end=\"2022-09-30\",interval = \"1d\")"
   ]
  },
  {
   "cell_type": "code",
   "execution_count": 116,
   "id": "1e814778-7d58-472b-8407-be20401733f0",
   "metadata": {},
   "outputs": [],
   "source": [
    "bitcoin_data.drop(columns=['Open','High','Low','Adj Close','Volume'],inplace=True)"
   ]
  },
  {
   "cell_type": "code",
   "execution_count": 117,
   "id": "9f6bba52-1c19-4b51-8945-d7307b9ae61b",
   "metadata": {},
   "outputs": [],
   "source": [
    "bitcoin_data=bitcoin_data.rename(columns={\"Close\":\"BTC\"})"
   ]
  },
  {
   "cell_type": "code",
   "execution_count": 118,
   "id": "7bed8a1b-526b-46e4-a899-b5944cdc772b",
   "metadata": {},
   "outputs": [],
   "source": [
    "solana_data.drop(columns=['Open','High','Low','Adj Close','Volume'],inplace=True)"
   ]
  },
  {
   "cell_type": "code",
   "execution_count": 119,
   "id": "2fc457dc-87e0-4698-91d1-d736140827b1",
   "metadata": {},
   "outputs": [],
   "source": [
    "solana_data=solana_data.rename(columns={\"Close\":\"SOL\"})"
   ]
  },
  {
   "cell_type": "code",
   "execution_count": 120,
   "id": "905ba930-fb82-450c-a904-abe590ff4c66",
   "metadata": {},
   "outputs": [],
   "source": [
    "litecoin_data.drop(columns=['Open','High','Low','Adj Close','Volume'],inplace=True)"
   ]
  },
  {
   "cell_type": "code",
   "execution_count": 121,
   "id": "403ba7ef-85ce-401a-b632-e3387f64621e",
   "metadata": {},
   "outputs": [],
   "source": [
    "litecoin_data=litecoin_data.rename(columns={\"Close\":\"LTC\"})"
   ]
  },
  {
   "cell_type": "code",
   "execution_count": 122,
   "id": "693eb1e5-f23a-4628-8651-588e8169f869",
   "metadata": {},
   "outputs": [],
   "source": [
    "ethereum_data.drop(columns=['Open','High','Low','Adj Close','Volume'],inplace=True)"
   ]
  },
  {
   "cell_type": "code",
   "execution_count": 123,
   "id": "f0f94270-9d03-45ca-b3c8-8006fa1b92ca",
   "metadata": {},
   "outputs": [],
   "source": [
    "ethereum_data=ethereum_data.rename(columns={\"Close\":\"ETH\"})"
   ]
  },
  {
   "cell_type": "code",
   "execution_count": null,
   "id": "0cc020f1-1316-4d1e-9d2c-1caedbd8d892",
   "metadata": {},
   "outputs": [],
   "source": [
    "bitcoin_data.hvplot.line()"
   ]
  },
  {
   "cell_type": "code",
   "execution_count": null,
   "id": "5213858f-c24c-488e-9619-1407c6977bb1",
   "metadata": {},
   "outputs": [],
   "source": [
    "ethereum_data.hvplot.line()"
   ]
  },
  {
   "cell_type": "code",
   "execution_count": null,
   "id": "97b047f5-3f69-492f-b074-3cda42dd77b1",
   "metadata": {},
   "outputs": [],
   "source": [
    "ETHplot=ethereum_data.hvplot.line(height=500,width=900,legend='top')\n",
    "BTCplot=bitcoin_data.hvplot.line(height=500,width=900,legend='top')"
   ]
  },
  {
   "cell_type": "code",
   "execution_count": null,
   "id": "9a7c5068-9230-45ad-9c86-eee7af22e397",
   "metadata": {},
   "outputs": [],
   "source": [
    "ETHplot*BTCplot"
   ]
  },
  {
   "cell_type": "code",
   "execution_count": null,
   "id": "5523f49a-f5ba-4258-bbda-5111c4881160",
   "metadata": {},
   "outputs": [],
   "source": [
    "combined_plot=ETHplot*BTCplot"
   ]
  },
  {
   "cell_type": "code",
   "execution_count": 124,
   "id": "0a7b0010-e479-45f9-b43a-afe8c8cad4de",
   "metadata": {},
   "outputs": [],
   "source": [
    "combined_data = pd.concat([bitcoin_data,ethereum_data,solana_data,litecoin_data],axis=1,join=\"inner\")"
   ]
  },
  {
   "cell_type": "code",
   "execution_count": 125,
   "id": "b502c04c-008e-4c0a-bfff-4ad52bf16877",
   "metadata": {},
   "outputs": [
    {
     "data": {
      "text/html": [
       "<div>\n",
       "<style scoped>\n",
       "    .dataframe tbody tr th:only-of-type {\n",
       "        vertical-align: middle;\n",
       "    }\n",
       "\n",
       "    .dataframe tbody tr th {\n",
       "        vertical-align: top;\n",
       "    }\n",
       "\n",
       "    .dataframe thead th {\n",
       "        text-align: right;\n",
       "    }\n",
       "</style>\n",
       "<table border=\"1\" class=\"dataframe\">\n",
       "  <thead>\n",
       "    <tr style=\"text-align: right;\">\n",
       "      <th></th>\n",
       "      <th>BTC</th>\n",
       "      <th>ETH</th>\n",
       "      <th>SOL</th>\n",
       "      <th>LTC</th>\n",
       "    </tr>\n",
       "    <tr>\n",
       "      <th>Date</th>\n",
       "      <th></th>\n",
       "      <th></th>\n",
       "      <th></th>\n",
       "      <th></th>\n",
       "    </tr>\n",
       "  </thead>\n",
       "  <tbody>\n",
       "    <tr>\n",
       "      <th>2020-04-10</th>\n",
       "      <td>6865.493164</td>\n",
       "      <td>158.412445</td>\n",
       "      <td>0.951054</td>\n",
       "      <td>42.269814</td>\n",
       "    </tr>\n",
       "    <tr>\n",
       "      <th>2020-04-11</th>\n",
       "      <td>6859.083008</td>\n",
       "      <td>158.216019</td>\n",
       "      <td>0.776819</td>\n",
       "      <td>42.319099</td>\n",
       "    </tr>\n",
       "    <tr>\n",
       "      <th>2020-04-12</th>\n",
       "      <td>6971.091797</td>\n",
       "      <td>161.142426</td>\n",
       "      <td>0.882507</td>\n",
       "      <td>42.450287</td>\n",
       "    </tr>\n",
       "    <tr>\n",
       "      <th>2020-04-13</th>\n",
       "      <td>6845.037598</td>\n",
       "      <td>156.279556</td>\n",
       "      <td>0.777832</td>\n",
       "      <td>41.204342</td>\n",
       "    </tr>\n",
       "    <tr>\n",
       "      <th>2020-04-14</th>\n",
       "      <td>6842.427734</td>\n",
       "      <td>157.596390</td>\n",
       "      <td>0.661925</td>\n",
       "      <td>41.053841</td>\n",
       "    </tr>\n",
       "    <tr>\n",
       "      <th>...</th>\n",
       "      <td>...</td>\n",
       "      <td>...</td>\n",
       "      <td>...</td>\n",
       "      <td>...</td>\n",
       "    </tr>\n",
       "    <tr>\n",
       "      <th>2022-09-26</th>\n",
       "      <td>19222.671875</td>\n",
       "      <td>1335.320190</td>\n",
       "      <td>33.880554</td>\n",
       "      <td>53.432064</td>\n",
       "    </tr>\n",
       "    <tr>\n",
       "      <th>2022-09-27</th>\n",
       "      <td>19110.546875</td>\n",
       "      <td>1330.127686</td>\n",
       "      <td>32.750130</td>\n",
       "      <td>52.737259</td>\n",
       "    </tr>\n",
       "    <tr>\n",
       "      <th>2022-09-28</th>\n",
       "      <td>19426.720703</td>\n",
       "      <td>1337.410889</td>\n",
       "      <td>33.235439</td>\n",
       "      <td>53.308426</td>\n",
       "    </tr>\n",
       "    <tr>\n",
       "      <th>2022-09-29</th>\n",
       "      <td>19573.050781</td>\n",
       "      <td>1335.652344</td>\n",
       "      <td>33.952450</td>\n",
       "      <td>53.914047</td>\n",
       "    </tr>\n",
       "    <tr>\n",
       "      <th>2022-09-30</th>\n",
       "      <td>19431.789062</td>\n",
       "      <td>1327.978638</td>\n",
       "      <td>33.212444</td>\n",
       "      <td>53.397038</td>\n",
       "    </tr>\n",
       "  </tbody>\n",
       "</table>\n",
       "<p>904 rows × 4 columns</p>\n",
       "</div>"
      ],
      "text/plain": [
       "                     BTC          ETH        SOL        LTC\n",
       "Date                                                       \n",
       "2020-04-10   6865.493164   158.412445   0.951054  42.269814\n",
       "2020-04-11   6859.083008   158.216019   0.776819  42.319099\n",
       "2020-04-12   6971.091797   161.142426   0.882507  42.450287\n",
       "2020-04-13   6845.037598   156.279556   0.777832  41.204342\n",
       "2020-04-14   6842.427734   157.596390   0.661925  41.053841\n",
       "...                  ...          ...        ...        ...\n",
       "2022-09-26  19222.671875  1335.320190  33.880554  53.432064\n",
       "2022-09-27  19110.546875  1330.127686  32.750130  52.737259\n",
       "2022-09-28  19426.720703  1337.410889  33.235439  53.308426\n",
       "2022-09-29  19573.050781  1335.652344  33.952450  53.914047\n",
       "2022-09-30  19431.789062  1327.978638  33.212444  53.397038\n",
       "\n",
       "[904 rows x 4 columns]"
      ]
     },
     "execution_count": 125,
     "metadata": {},
     "output_type": "execute_result"
    }
   ],
   "source": [
    "combined_data"
   ]
  },
  {
   "cell_type": "code",
   "execution_count": 126,
   "id": "ba95b278-b438-4480-a393-1c4941fd0d8f",
   "metadata": {},
   "outputs": [
    {
     "data": {
      "text/plain": [
       "<AxesSubplot:xlabel='Date'>"
      ]
     },
     "execution_count": 126,
     "metadata": {},
     "output_type": "execute_result"
    },
    {
     "data": {
      "image/png": "[encoded data removed]",
      "text/plain": [
       "<Figure size 432x288 with 1 Axes>"
      ]
     },
     "metadata": {
      "needs_background": "light"
     },
     "output_type": "display_data"
    }
   ],
   "source": [
    "combined_data.plot()"
   ]
  },
  {
   "cell_type": "code",
   "execution_count": 127,
   "id": "4cc26a4c-bbe7-4ddf-b097-54bd05eb8a32",
   "metadata": {},
   "outputs": [
    {
     "data": {
      "text/html": [
       "<div>\n",
       "<style scoped>\n",
       "    .dataframe tbody tr th:only-of-type {\n",
       "        vertical-align: middle;\n",
       "    }\n",
       "\n",
       "    .dataframe tbody tr th {\n",
       "        vertical-align: top;\n",
       "    }\n",
       "\n",
       "    .dataframe thead th {\n",
       "        text-align: right;\n",
       "    }\n",
       "</style>\n",
       "<table border=\"1\" class=\"dataframe\">\n",
       "  <thead>\n",
       "    <tr style=\"text-align: right;\">\n",
       "      <th></th>\n",
       "      <th>BTC</th>\n",
       "      <th>ETH</th>\n",
       "      <th>SOL</th>\n",
       "      <th>LTC</th>\n",
       "    </tr>\n",
       "  </thead>\n",
       "  <tbody>\n",
       "    <tr>\n",
       "      <th>BTC</th>\n",
       "      <td>1.000000</td>\n",
       "      <td>0.877917</td>\n",
       "      <td>0.676238</td>\n",
       "      <td>0.892962</td>\n",
       "    </tr>\n",
       "    <tr>\n",
       "      <th>ETH</th>\n",
       "      <td>0.877917</td>\n",
       "      <td>1.000000</td>\n",
       "      <td>0.880701</td>\n",
       "      <td>0.720908</td>\n",
       "    </tr>\n",
       "    <tr>\n",
       "      <th>SOL</th>\n",
       "      <td>0.676238</td>\n",
       "      <td>0.880701</td>\n",
       "      <td>1.000000</td>\n",
       "      <td>0.457380</td>\n",
       "    </tr>\n",
       "    <tr>\n",
       "      <th>LTC</th>\n",
       "      <td>0.892962</td>\n",
       "      <td>0.720908</td>\n",
       "      <td>0.457380</td>\n",
       "      <td>1.000000</td>\n",
       "    </tr>\n",
       "  </tbody>\n",
       "</table>\n",
       "</div>"
      ],
      "text/plain": [
       "          BTC       ETH       SOL       LTC\n",
       "BTC  1.000000  0.877917  0.676238  0.892962\n",
       "ETH  0.877917  1.000000  0.880701  0.720908\n",
       "SOL  0.676238  0.880701  1.000000  0.457380\n",
       "LTC  0.892962  0.720908  0.457380  1.000000"
      ]
     },
     "execution_count": 127,
     "metadata": {},
     "output_type": "execute_result"
    }
   ],
   "source": [
    "# Calculate the correlation between each coin\n",
    "correlation = combined_data.corr()\n",
    "correlation"
   ]
  },
  {
   "cell_type": "code",
   "execution_count": 128,
   "id": "3ed2a728-f3dd-47bd-b364-65214c6b03f1",
   "metadata": {},
   "outputs": [],
   "source": [
    "#pct return concat and compare and then std compare"
   ]
  },
  {
   "cell_type": "code",
   "execution_count": 146,
   "id": "c6b2756f-75ec-4c90-a2d3-99d2118a8d62",
   "metadata": {},
   "outputs": [],
   "source": [
    "#imports\n",
    "import seaborn as sns\n",
    "import matplotlib.pyplot as plt\n",
    "%matplotlib inline"
   ]
  },
  {
   "cell_type": "code",
   "execution_count": 147,
   "id": "a0cb8f7a-b152-47ac-a02f-d0298d98b785",
   "metadata": {},
   "outputs": [
    {
     "data": {
      "text/plain": [
       "<AxesSubplot:>"
      ]
     },
     "execution_count": 147,
     "metadata": {},
     "output_type": "execute_result"
    },
    {
     "data": {
      "image/png": "[encoded data removed]",
      "text/plain": [
       "<Figure size 432x288 with 2 Axes>"
      ]
     },
     "metadata": {
      "needs_background": "light"
     },
     "output_type": "display_data"
    }
   ],
   "source": [
    "# Use the `heatmap` function from the Seaborn library to visualize correlations\n",
    "sns.heatmap(correlation, vmin=-1, vmax=1, cmap=\"BuPu\")"
   ]
  },
  {
   "cell_type": "code",
   "execution_count": 148,
   "id": "7f96e1fb-4dba-459b-a393-18a1800e802c",
   "metadata": {},
   "outputs": [
    {
     "data": {
      "text/plain": [
       "<Figure size 432x288 with 0 Axes>"
      ]
     },
     "metadata": {},
     "output_type": "display_data"
    }
   ],
   "source": [
    "plt.savefig('cryptoheat.png')"
   ]
  },
  {
   "cell_type": "code",
   "execution_count": 132,
   "id": "72078d93-1937-48f2-bae7-edc9d8bda079",
   "metadata": {},
   "outputs": [],
   "source": [
    "# Calculate daily returns for each portfolio\n",
    "combined_returns = combined_data.pct_change().dropna()"
   ]
  },
  {
   "cell_type": "code",
   "execution_count": 133,
   "id": "f9d01571-2411-4ea6-9805-0eb442bfc393",
   "metadata": {},
   "outputs": [
    {
     "data": {
      "text/html": [
       "<div>\n",
       "<style scoped>\n",
       "    .dataframe tbody tr th:only-of-type {\n",
       "        vertical-align: middle;\n",
       "    }\n",
       "\n",
       "    .dataframe tbody tr th {\n",
       "        vertical-align: top;\n",
       "    }\n",
       "\n",
       "    .dataframe thead th {\n",
       "        text-align: right;\n",
       "    }\n",
       "</style>\n",
       "<table border=\"1\" class=\"dataframe\">\n",
       "  <thead>\n",
       "    <tr style=\"text-align: right;\">\n",
       "      <th></th>\n",
       "      <th>BTC</th>\n",
       "      <th>ETH</th>\n",
       "      <th>SOL</th>\n",
       "      <th>LTC</th>\n",
       "    </tr>\n",
       "    <tr>\n",
       "      <th>Date</th>\n",
       "      <th></th>\n",
       "      <th></th>\n",
       "      <th></th>\n",
       "      <th></th>\n",
       "    </tr>\n",
       "  </thead>\n",
       "  <tbody>\n",
       "    <tr>\n",
       "      <th>2020-04-11</th>\n",
       "      <td>-0.000934</td>\n",
       "      <td>-0.001240</td>\n",
       "      <td>-0.183202</td>\n",
       "      <td>0.001166</td>\n",
       "    </tr>\n",
       "    <tr>\n",
       "      <th>2020-04-12</th>\n",
       "      <td>0.016330</td>\n",
       "      <td>0.018496</td>\n",
       "      <td>0.136052</td>\n",
       "      <td>0.003100</td>\n",
       "    </tr>\n",
       "    <tr>\n",
       "      <th>2020-04-13</th>\n",
       "      <td>-0.018082</td>\n",
       "      <td>-0.030177</td>\n",
       "      <td>-0.118611</td>\n",
       "      <td>-0.029351</td>\n",
       "    </tr>\n",
       "    <tr>\n",
       "      <th>2020-04-14</th>\n",
       "      <td>-0.000381</td>\n",
       "      <td>0.008426</td>\n",
       "      <td>-0.149013</td>\n",
       "      <td>-0.003653</td>\n",
       "    </tr>\n",
       "    <tr>\n",
       "      <th>2020-04-15</th>\n",
       "      <td>-0.029276</td>\n",
       "      <td>-0.027345</td>\n",
       "      <td>-0.023075</td>\n",
       "      <td>-0.035679</td>\n",
       "    </tr>\n",
       "    <tr>\n",
       "      <th>...</th>\n",
       "      <td>...</td>\n",
       "      <td>...</td>\n",
       "      <td>...</td>\n",
       "      <td>...</td>\n",
       "    </tr>\n",
       "    <tr>\n",
       "      <th>2022-09-26</th>\n",
       "      <td>0.022368</td>\n",
       "      <td>0.031759</td>\n",
       "      <td>0.047786</td>\n",
       "      <td>0.015201</td>\n",
       "    </tr>\n",
       "    <tr>\n",
       "      <th>2022-09-27</th>\n",
       "      <td>-0.005833</td>\n",
       "      <td>-0.003889</td>\n",
       "      <td>-0.033365</td>\n",
       "      <td>-0.013004</td>\n",
       "    </tr>\n",
       "    <tr>\n",
       "      <th>2022-09-28</th>\n",
       "      <td>0.016544</td>\n",
       "      <td>0.005476</td>\n",
       "      <td>0.014819</td>\n",
       "      <td>0.010830</td>\n",
       "    </tr>\n",
       "    <tr>\n",
       "      <th>2022-09-29</th>\n",
       "      <td>0.007532</td>\n",
       "      <td>-0.001315</td>\n",
       "      <td>0.021574</td>\n",
       "      <td>0.011361</td>\n",
       "    </tr>\n",
       "    <tr>\n",
       "      <th>2022-09-30</th>\n",
       "      <td>-0.007217</td>\n",
       "      <td>-0.005745</td>\n",
       "      <td>-0.021795</td>\n",
       "      <td>-0.009590</td>\n",
       "    </tr>\n",
       "  </tbody>\n",
       "</table>\n",
       "<p>903 rows × 4 columns</p>\n",
       "</div>"
      ],
      "text/plain": [
       "                 BTC       ETH       SOL       LTC\n",
       "Date                                              \n",
       "2020-04-11 -0.000934 -0.001240 -0.183202  0.001166\n",
       "2020-04-12  0.016330  0.018496  0.136052  0.003100\n",
       "2020-04-13 -0.018082 -0.030177 -0.118611 -0.029351\n",
       "2020-04-14 -0.000381  0.008426 -0.149013 -0.003653\n",
       "2020-04-15 -0.029276 -0.027345 -0.023075 -0.035679\n",
       "...              ...       ...       ...       ...\n",
       "2022-09-26  0.022368  0.031759  0.047786  0.015201\n",
       "2022-09-27 -0.005833 -0.003889 -0.033365 -0.013004\n",
       "2022-09-28  0.016544  0.005476  0.014819  0.010830\n",
       "2022-09-29  0.007532 -0.001315  0.021574  0.011361\n",
       "2022-09-30 -0.007217 -0.005745 -0.021795 -0.009590\n",
       "\n",
       "[903 rows x 4 columns]"
      ]
     },
     "execution_count": 133,
     "metadata": {},
     "output_type": "execute_result"
    }
   ],
   "source": [
    "combined_returns"
   ]
  },
  {
   "cell_type": "code",
   "execution_count": 134,
   "id": "f5bb28e8-d874-401e-81ab-942b100156e4",
   "metadata": {},
   "outputs": [],
   "source": [
    "port_std=combined_returns.std()"
   ]
  },
  {
   "cell_type": "code",
   "execution_count": 135,
   "id": "d0ceb6a3-b6da-4736-a481-89feb3d5e13d",
   "metadata": {},
   "outputs": [
    {
     "data": {
      "text/plain": [
       "BTC    0.036663\n",
       "ETH    0.048908\n",
       "SOL    0.079940\n",
       "LTC    0.051831\n",
       "dtype: float64"
      ]
     },
     "execution_count": 135,
     "metadata": {},
     "output_type": "execute_result"
    }
   ],
   "source": [
    "port_std"
   ]
  },
  {
   "cell_type": "code",
   "execution_count": 136,
   "id": "9e72c980-90b1-42eb-91d6-a2f44cfbd388",
   "metadata": {},
   "outputs": [
    {
     "data": {
      "text/plain": [
       "<AxesSubplot:>"
      ]
     },
     "execution_count": 136,
     "metadata": {},
     "output_type": "execute_result"
    },
    {
     "data": {
      "image/png": "[encoded data removed]",
      "text/plain": [
       "<Figure size 432x288 with 1 Axes>"
      ]
     },
     "metadata": {
      "needs_background": "light"
     },
     "output_type": "display_data"
    }
   ],
   "source": [
    "port_std.plot()"
   ]
  },
  {
   "cell_type": "code",
   "execution_count": 143,
   "id": "f43774f5-c20b-4b1d-b015-56218a80a161",
   "metadata": {},
   "outputs": [
    {
     "data": {
      "text/plain": [
       "BTC    0.789795\n",
       "ETH    1.154190\n",
       "SOL    1.405527\n",
       "LTC    0.498879\n",
       "dtype: float64"
      ]
     },
     "execution_count": 143,
     "metadata": {},
     "output_type": "execute_result"
    }
   ],
   "source": [
    "# Calculate sharpe ratio\n",
    "sharpe_ratios = (combined_returns.mean() * 252) / (port_std * np.sqrt(252))\n",
    "sharpe_ratios.head()"
   ]
  },
  {
   "cell_type": "code",
   "execution_count": null,
   "id": "9f1eea3c-7358-4d4a-8803-23b0393ec826",
   "metadata": {},
   "outputs": [],
   "source": []
  }
 ],
 "metadata": {
  "kernelspec": {
   "display_name": "Python 3 (ipykernel)",
   "language": "python",
   "name": "python3"
  },
  "language_info": {
   "codemirror_mode": {
    "name": "ipython",
    "version": 3
   },
   "file_extension": ".py",
   "mimetype": "text/x-python",
   "name": "python",
   "nbconvert_exporter": "python",
   "pygments_lexer": "ipython3",
   "version": "3.9.12"
  }
 },
 "nbformat": 4,
 "nbformat_minor": 5
}
